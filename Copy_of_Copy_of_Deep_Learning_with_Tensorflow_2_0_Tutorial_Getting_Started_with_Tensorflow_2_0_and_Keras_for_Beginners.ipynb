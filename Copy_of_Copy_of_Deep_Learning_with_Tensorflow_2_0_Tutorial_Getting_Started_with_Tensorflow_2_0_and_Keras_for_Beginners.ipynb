{
  "cells": [
    {
      "cell_type": "markdown",
      "metadata": {
        "id": "view-in-github",
        "colab_type": "text"
      },
      "source": [
        "<a href=\"https://colab.research.google.com/github/Preeti-Yadav-CS1/Cifar/blob/main/Copy_of_Copy_of_Deep_Learning_with_Tensorflow_2_0_Tutorial_Getting_Started_with_Tensorflow_2_0_and_Keras_for_Beginners.ipynb\" target=\"_parent\"><img src=\"https://colab.research.google.com/assets/colab-badge.svg\" alt=\"Open In Colab\"/></a>"
      ]
    },
    {
      "cell_type": "markdown",
      "metadata": {
        "id": "MhoQ0WE77laV"
      },
      "source": [
        "## Deep Learning with Tensorflow 2.0 Tutorial - Getting Started with Tensorflow 2.0 and Keras for Beginners"
      ]
    },
    {
      "cell_type": "markdown",
      "metadata": {
        "id": "TXrPk3J8Ut9W"
      },
      "source": [
        "### What is Tensorflow?"
      ]
    },
    {
      "cell_type": "code",
      "source": [
        ""
      ],
      "metadata": {
        "id": "WNlieMVTUy6y"
      },
      "execution_count": null,
      "outputs": []
    },
    {
      "cell_type": "markdown",
      "metadata": {
        "id": "3CgvZMhWUt9Y"
      },
      "source": [
        "Tensorflow architecture works in three parts:\n",
        "\n",
        "- Preprocessing the data\n",
        "- Build the model\n",
        "- Train and estimate the model"
      ]
    },
    {
      "cell_type": "markdown",
      "metadata": {
        "id": "0MXtwqRxUt9a"
      },
      "source": [
        "I am assuming that you know a little about the machine learning and deep learning"
      ]
    },
    {
      "cell_type": "markdown",
      "metadata": {
        "id": "P8r34X-oUt9b"
      },
      "source": [
        "### Why Every Data Scientist Learn Tensorflow 2.x not Tensorflow 1.x"
      ]
    },
    {
      "cell_type": "markdown",
      "metadata": {
        "id": "CN7luDVsUt9c"
      },
      "source": [
        "- API Cleanup\n",
        "- Eager execution\n",
        "- No more globals\n",
        "- Functions, not sessions (session.run())\n",
        "- Use Keras layers and models to manage variables\n",
        "- It is faster\n",
        "- It takes less space\n",
        "- More consistent\n",
        "- and many more, watch Google I/O https://www.youtube.com/watch?v=lEljKc9ZtU8\n",
        "- Github Link: https://github.com/tensorflow/tensorflow/releases"
      ]
    },
    {
      "cell_type": "markdown",
      "metadata": {
        "id": "5GSVlaFTUt9e"
      },
      "source": [
        " ##### !pip install tensorflow==2.0.0-rc0 \n",
        " ##### !pip install tensorflow-gpu==2.0.0-rc0"
      ]
    },
    {
      "cell_type": "markdown",
      "metadata": {
        "id": "yR0EdgrLCaWR"
      },
      "source": [
        "## Import the Fashion MNIST dataset"
      ]
    },
    {
      "cell_type": "markdown",
      "metadata": {
        "id": "DLdCchMdCaWQ"
      },
      "source": [
        "[Fashion MNIST](https://github.com/zalandoresearch/fashion-mnist) dataset contains 70,000 grayscale images in 10 categories. The images show individual articles of clothing at low resolution (28 by 28 pixels), as seen here:\n",
        "\n",
        "<table>\n",
        "  <tr><td>\n",
        "    <img src=\"https://tensorflow.org/images/fashion-mnist-sprite.png\"\n",
        "         alt=\"Fashion MNIST sprite\"  width=\"600\">\n",
        "  </td></tr>\n",
        "  <tr><td align=\"center\">\n",
        "    <b>Figure 1.</b> <a href=\"https://github.com/zalandoresearch/fashion-mnist\">Fashion-MNIST samples</a> (by Zalando, MIT License).<br/>&nbsp;\n",
        "  </td></tr>\n",
        "</table>"
      ]
    },
    {
      "cell_type": "code",
      "execution_count": null,
      "metadata": {
        "id": "kFArvsggUt9k"
      },
      "outputs": [],
      "source": [
        "import tensorflow as tf\n",
        "from tensorflow import keras"
      ]
    },
    {
      "cell_type": "code",
      "execution_count": null,
      "metadata": {
        "id": "TWI6-r7RUt9n"
      },
      "outputs": [],
      "source": [
        "print(tf.__version__)"
      ]
    },
    {
      "cell_type": "code",
      "execution_count": null,
      "metadata": {
        "id": "5aD0UlYlUt9o"
      },
      "outputs": [],
      "source": [
        "import numpy as np\n",
        "import pandas as pd\n",
        "import matplotlib.pyplot as plt"
      ]
    },
    {
      "cell_type": "code",
      "execution_count": null,
      "metadata": {
        "id": "pikWNiW5Ut9p"
      },
      "outputs": [],
      "source": [
        "mnist = keras.datasets.fashion_mnist"
      ]
    },
    {
      "cell_type": "code",
      "execution_count": null,
      "metadata": {
        "id": "C3wvFJ8IUt9q"
      },
      "outputs": [],
      "source": [
        "type(mnist)"
      ]
    },
    {
      "cell_type": "code",
      "execution_count": null,
      "metadata": {
        "id": "gwMXZorYUt9r"
      },
      "outputs": [],
      "source": [
        "(X_train, y_train), (X_test, y_test) = mnist.load_data()"
      ]
    },
    {
      "cell_type": "code",
      "execution_count": null,
      "metadata": {
        "id": "0ksg7XwtUt9s"
      },
      "outputs": [],
      "source": [
        "X_train.shape, y_train.shape"
      ]
    },
    {
      "cell_type": "code",
      "execution_count": null,
      "metadata": {
        "id": "ydnmsKpnUt9t"
      },
      "outputs": [],
      "source": [
        "np.max(X_train)"
      ]
    },
    {
      "cell_type": "code",
      "execution_count": null,
      "metadata": {
        "id": "ty4Y6yWoUt9u"
      },
      "outputs": [],
      "source": [
        "np.mean(X_train)"
      ]
    },
    {
      "cell_type": "code",
      "execution_count": null,
      "metadata": {
        "id": "9XVvk-Q5Ut9u"
      },
      "outputs": [],
      "source": [
        "y_train"
      ]
    },
    {
      "cell_type": "code",
      "execution_count": null,
      "metadata": {
        "id": "UAexm50KUt9v"
      },
      "outputs": [],
      "source": [
        "class_names = ['top', 'trouser', 'pullover', 'dress', 'coat', 'sandal', 'shirt', 'sneaker', 'bag', 'ankle boot']"
      ]
    },
    {
      "cell_type": "markdown",
      "metadata": {
        "id": "eaBIp5NvUt9w"
      },
      "source": [
        "#### Data Exploration"
      ]
    },
    {
      "cell_type": "code",
      "execution_count": null,
      "metadata": {
        "id": "JOg8cJKKUt9x"
      },
      "outputs": [],
      "source": [
        "X_train.shape"
      ]
    },
    {
      "cell_type": "code",
      "execution_count": null,
      "metadata": {
        "id": "VciTfGrCUt9x"
      },
      "outputs": [],
      "source": [
        "X_test.shape"
      ]
    },
    {
      "cell_type": "code",
      "execution_count": null,
      "metadata": {
        "id": "g2PNVgj1Ut9y"
      },
      "outputs": [],
      "source": [
        "plt.figure()\n",
        "plt.imshow(X_train[1])\n",
        "plt.colorbar()"
      ]
    },
    {
      "cell_type": "code",
      "execution_count": null,
      "metadata": {
        "id": "tavXmJC_Ut9z"
      },
      "outputs": [],
      "source": [
        "y_train"
      ]
    },
    {
      "cell_type": "code",
      "execution_count": null,
      "metadata": {
        "id": "hxhtQWXFUt9z"
      },
      "outputs": [],
      "source": [
        "X_train = X_train/255.0"
      ]
    },
    {
      "cell_type": "code",
      "execution_count": null,
      "metadata": {
        "id": "spiLk8DZUt9z"
      },
      "outputs": [],
      "source": [
        "X_test = X_test/255.0"
      ]
    },
    {
      "cell_type": "code",
      "execution_count": null,
      "metadata": {
        "id": "cQw3_blrUt90"
      },
      "outputs": [],
      "source": [
        "plt.figure()\n",
        "plt.imshow(X_train[1])\n",
        "plt.colorbar()"
      ]
    },
    {
      "cell_type": "markdown",
      "metadata": {
        "id": "pfHOUIRKUt90"
      },
      "source": [
        "### Build the model with TF 2.0 "
      ]
    },
    {
      "cell_type": "code",
      "execution_count": null,
      "metadata": {
        "id": "u8XVbcU8Ut90"
      },
      "outputs": [],
      "source": [
        "from tensorflow.keras import Sequential\n",
        "from tensorflow.keras.layers import Flatten, Dense\n",
        "from tensorflow.keras.layers import Flatten, Dense,Conv2D, MaxPool2D, Dropout"
      ]
    },
    {
      "cell_type": "code",
      "execution_count": null,
      "metadata": {
        "id": "xdtiyEw-Ut90"
      },
      "outputs": [],
      "source": [
        "model = Sequential()\n",
        "model.add(Conv2D(filters=32, kernel_size=(3,3), padding='same', activation='relu', input_shape=[28,28,1]))\n",
        "model.add(MaxPool2D(pool_size=(2,2), strides=2, padding='valid'))\n",
        "#model.add(Dropout(0.5))\n",
        "model.add(Flatten(input_shape = (28, 28)))\n",
        "model.add(Dense(128, activation = 'relu'))\n",
        "#model.add(Dense(128, activation = 'relu'))\n",
        "model.add(Dense(10, activation = 'softmax',kernel_regularizer='l2'))\n",
        "#for binary output we use sigmoid function"
      ]
    },
    {
      "cell_type": "code",
      "execution_count": null,
      "metadata": {
        "id": "jveoEZKhUt91"
      },
      "outputs": [],
      "source": [
        "model.summary()"
      ]
    },
    {
      "cell_type": "markdown",
      "metadata": {
        "id": "H0Yg0Th0Ut91"
      },
      "source": [
        "#### model compilation\n",
        "- Loss Function\n",
        "- Optimizer\n",
        "- Metrics"
      ]
    },
    {
      "cell_type": "code",
      "source": [
        ""
      ],
      "metadata": {
        "id": "jzF_eRpbluwg"
      },
      "execution_count": null,
      "outputs": []
    },
    {
      "cell_type": "code",
      "execution_count": null,
      "metadata": {
        "id": "QTnxwFcOUt91"
      },
      "outputs": [],
      "source": [
        "model.compile(optimizer='adam',loss='sparse_categorical_crossentropy', metrics = ['sparse_categorical_accuracy'])\n",
        "#here adam is a gradient descent optimizer"
      ]
    },
    {
      "cell_type": "code",
      "execution_count": null,
      "metadata": {
        "id": "9YDsaG3XUt92"
      },
      "outputs": [],
      "source": [
        "history=model.fit(X_train, y_train, epochs = 10,validation_data=(X_test, y_test))"
      ]
    },
    {
      "cell_type": "code",
      "source": [
        "from matplotlib import pyplot as plt\n",
        "epoch_range=range(1, 11)\n",
        "plt.plot(epoch_range, history.history['sparse_categorical_accuracy'])\n",
        "plt.plot(epoch_range, history.history['val_sparse_categorical_accuracy'])\n",
        "plt.title('Model Accuracy')\n",
        "plt.ylabel('val Accuracy')\n",
        "plt.xlabel('Epoch')\n",
        "plt.legend(['train','val'], loc='upper left')\n",
        "plt.show()"
      ],
      "metadata": {
        "id": "ADOF-hbviqYr"
      },
      "execution_count": null,
      "outputs": []
    },
    {
      "cell_type": "code",
      "execution_count": null,
      "metadata": {
        "id": "tRkLTwD3Ut92"
      },
      "outputs": [],
      "source": [
        "test_loss, test_acc = model.evaluate(X_test, y_test)\n",
        "print(test_acc)"
      ]
    },
    {
      "cell_type": "code",
      "execution_count": null,
      "metadata": {
        "id": "xU0qyNfwUt92"
      },
      "outputs": [],
      "source": [
        "from sklearn.metrics import accuracy_score"
      ]
    },
    {
      "cell_type": "code",
      "execution_count": null,
      "metadata": {
        "id": "STautkreUt93"
      },
      "outputs": [],
      "source": [
        "y_pred = model.predict(X_test)"
      ]
    },
    {
      "cell_type": "code",
      "execution_count": null,
      "metadata": {
        "id": "JBpnibyXUt93"
      },
      "outputs": [],
      "source": [
        "y_pred"
      ]
    },
    {
      "cell_type": "code",
      "execution_count": null,
      "metadata": {
        "id": "ZV1uF_AYUt93"
      },
      "outputs": [],
      "source": [
        "y_pred[0]"
      ]
    },
    {
      "cell_type": "code",
      "execution_count": null,
      "metadata": {
        "id": "AjKn9wVjUt94"
      },
      "outputs": [],
      "source": [
        "class_names"
      ]
    },
    {
      "cell_type": "code",
      "execution_count": null,
      "metadata": {
        "id": "5zVA9AoeUt94"
      },
      "outputs": [],
      "source": [
        "np.argmax(y_pred[0])"
      ]
    },
    {
      "cell_type": "code",
      "execution_count": null,
      "metadata": {
        "id": "dQzBMuatUt94"
      },
      "outputs": [],
      "source": [
        "plt.figure()\n",
        "plt.imshow(X_test[0])\n",
        "plt.colorbar()"
      ]
    },
    {
      "cell_type": "code",
      "execution_count": null,
      "metadata": {
        "id": "EOx1_NTmUt95"
      },
      "outputs": [],
      "source": [
        "y_pred[1]"
      ]
    },
    {
      "cell_type": "code",
      "execution_count": null,
      "metadata": {
        "id": "6U3yUcu-Ut95"
      },
      "outputs": [],
      "source": [
        "np.argmax(y_pred[1])"
      ]
    }
  ],
  "metadata": {
    "colab": {
      "collapsed_sections": [
        "MhoQ0WE77laV"
      ],
      "name": "Copy of Copy of Deep Learning with Tensorflow 2.0 Tutorial - Getting Started with Tensorflow 2.0 and Keras for Beginners.ipynb",
      "private_outputs": true,
      "provenance": [],
      "include_colab_link": true
    },
    "kernelspec": {
      "display_name": "Python 3",
      "language": "python",
      "name": "python3"
    },
    "language_info": {
      "codemirror_mode": {
        "name": "ipython",
        "version": 3
      },
      "file_extension": ".py",
      "mimetype": "text/x-python",
      "name": "python",
      "nbconvert_exporter": "python",
      "pygments_lexer": "ipython3",
      "version": "3.7.4"
    }
  },
  "nbformat": 4,
  "nbformat_minor": 0
}